{
 "cells": [
  {
   "cell_type": "code",
   "execution_count": 1,
   "metadata": {},
   "outputs": [],
   "source": [
    "from collections import defaultdict\n",
    "n = 50\n",
    "board = [[0]*n for i in range(n)]\n",
    "\n",
    "O = defaultdict(int)\n",
    "X = defaultdict(int)\n"
   ]
  },
  {
   "cell_type": "markdown",
   "metadata": {},
   "source": [
    "#### 写估值函数"
   ]
  },
  {
   "cell_type": "code",
   "execution_count": null,
   "metadata": {},
   "outputs": [],
   "source": [
    "def value_state(board):\n",
    "    pass\n"
   ]
  },
  {
   "cell_type": "code",
   "execution_count": null,
   "metadata": {},
   "outputs": [],
   "source": [
    "def nxt_states(board,MAX_TRUE):\n",
    "    if MAX_TRUE:\n",
    "        pass\n",
    "\n"
   ]
  },
  {
   "cell_type": "markdown",
   "metadata": {},
   "source": []
  },
  {
   "cell_type": "code",
   "execution_count": null,
   "metadata": {},
   "outputs": [],
   "source": [
    "def minmax(board,d,alpha,beta,MAX_TRUN):\n",
    "    if d == 0:return value_state(board)\n",
    "    if MAX_TRUN:\n",
    "        v = float('-inf')\n",
    "        states = nxt_states()\n",
    "        for state in states:\n",
    "            i,j = state\n",
    "            board[i][j] = 'X'\n",
    "            tmp_v = minmax(board,d-1,v,beta)\n",
    "            if tmp_v > v: v = tmp_v\n",
    "            if tmp_v > beta:return beta\n",
    "        return v\n",
    "    else:\n",
    "        v = float('inf')\n",
    "        states = nxt_states()\n",
    "        for  state in states:\n",
    "            i,j = state\n",
    "            board[i][j] = 'O'\n",
    "            tmp_v = minmax(board,d-1,alpha,v)\n",
    "            if tmp_v < v:v = tmp_v\n",
    "            if tmp_v > alpha:return alpha\n",
    "        return v"
   ]
  }
 ],
 "metadata": {
  "interpreter": {
   "hash": "31f2aee4e71d21fbe5cf8b01ff0e069b9275f58929596ceb00d14d90e3e16cd6"
  },
  "kernelspec": {
   "display_name": "Python 3.6.9 64-bit",
   "language": "python",
   "name": "python3"
  },
  "language_info": {
   "codemirror_mode": {
    "name": "ipython",
    "version": 3
   },
   "file_extension": ".py",
   "mimetype": "text/x-python",
   "name": "python",
   "nbconvert_exporter": "python",
   "pygments_lexer": "ipython3",
   "version": "3.6.9"
  },
  "orig_nbformat": 4
 },
 "nbformat": 4,
 "nbformat_minor": 2
}
